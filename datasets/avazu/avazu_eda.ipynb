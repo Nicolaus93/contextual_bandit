{
 "cells": [
  {
   "cell_type": "code",
   "execution_count": 1,
   "metadata": {
    "collapsed": false
   },
   "outputs": [],
   "source": [
    "import pandas as pd\n",
    "import numpy as np\n",
    "import seaborn as sns\n",
    "import matplotlib.pyplot as plt\n",
    "%matplotlib inline "
   ]
  },
  {
   "cell_type": "code",
   "execution_count": null,
   "metadata": {
    "collapsed": false
   },
   "outputs": [],
   "source": [
    "maximum = pd.read_csv('train.csv') # [40428967 rows x 24 columns]"
   ]
  },
  {
   "cell_type": "code",
   "execution_count": null,
   "metadata": {
    "collapsed": false
   },
   "outputs": [],
   "source": [
    "# select only users with more than 50 appereances\n",
    "n = maximum['device_ip'].value_counts()[maximum['device_ip'].value_counts()>=100].index\n",
    "extracted = maximum.loc[maximum['device_ip'].isin(n)]\n",
    "del maximum\n",
    "extracted.head()"
   ]
  },
  {
   "cell_type": "code",
   "execution_count": null,
   "metadata": {
    "collapsed": false
   },
   "outputs": [],
   "source": [
    "extracted.columns"
   ]
  },
  {
   "cell_type": "code",
   "execution_count": null,
   "metadata": {
    "collapsed": false
   },
   "outputs": [],
   "source": [
    "extracted.shape"
   ]
  },
  {
   "cell_type": "code",
   "execution_count": null,
   "metadata": {
    "collapsed": false
   },
   "outputs": [],
   "source": [
    "extracted.shape"
   ]
  },
  {
   "cell_type": "code",
   "execution_count": null,
   "metadata": {
    "collapsed": false
   },
   "outputs": [],
   "source": [
    "extracted['click'].value_counts()"
   ]
  },
  {
   "cell_type": "code",
   "execution_count": null,
   "metadata": {
    "collapsed": true
   },
   "outputs": [],
   "source": [
    "extracted.to_csv('filtered100.csv')"
   ]
  },
  {
   "cell_type": "code",
   "execution_count": null,
   "metadata": {
    "collapsed": false
   },
   "outputs": [],
   "source": [
    "for i in range(14,22):\n",
    "    s = 'C'+str(i)\n",
    "    print(s + \" \" + str(len(extracted[s].unique())))"
   ]
  },
  {
   "cell_type": "code",
   "execution_count": null,
   "metadata": {
    "collapsed": false,
    "scrolled": true
   },
   "outputs": [],
   "source": [
    "plt.figure(1)\n",
    "f, axarr = plt.subplots(2, 2, figsize=(10, 9))\n",
    "sns.countplot(x ='C15', hue = 'click',  data = extracted, ax=axarr[0,0])\n",
    "axarr[0, 0].set_title('C15')\n",
    "sns.countplot(x ='C1', hue = 'click',  data = extracted, ax=axarr[0, 1])\n",
    "axarr[0, 1].set_title('C1')\n",
    "sns.countplot(x ='C16', hue = 'click',  data = extracted, ax=axarr[1, 0])\n",
    "axarr[1, 0].set_title('C16')\n",
    "sns.countplot(x ='C18', hue = 'click',  data = extracted, ax=axarr[1, 1])\n",
    "axarr[1, 1].set_title('C18')\n",
    "plt.tight_layout()\n",
    "plt.show()"
   ]
  },
  {
   "cell_type": "code",
   "execution_count": null,
   "metadata": {
    "collapsed": false,
    "scrolled": true
   },
   "outputs": [],
   "source": [
    "plt.figure(1)\n",
    "f, axarr = plt.subplots(3, 2, figsize=(10, 9))\n",
    "sns.distplot(extracted['C14'], kde = False, color = 'b', hist_kws={'alpha': 0.9}, ax=axarr[0,0])\n",
    "axarr[0, 0].set_title('C14')\n",
    "sns.distplot(extracted['C17'], kde = False, color = 'b', hist_kws={'alpha': 0.9}, ax=axarr[0,1])\n",
    "axarr[0, 1].set_title('C17')\n",
    "sns.distplot(extracted['C19'], kde = False, color = 'b', hist_kws={'alpha': 0.9}, ax=axarr[1,0])\n",
    "axarr[1, 0].set_title('C19')\n",
    "sns.distplot(extracted['C20'], kde = False, color = 'b', hist_kws={'alpha': 0.9}, ax=axarr[1,1])\n",
    "axarr[1, 1].set_title('C20')\n",
    "sns.distplot(extracted['C21'], kde = False, color = 'b', hist_kws={'alpha': 0.9}, ax=axarr[2,0])\n",
    "axarr[2, 0].set_title('C21')\n",
    "plt.tight_layout()\n",
    "plt.show()"
   ]
  },
  {
   "cell_type": "code",
   "execution_count": null,
   "metadata": {
    "collapsed": false
   },
   "outputs": [],
   "source": [
    "len(extracted['C14'].value_counts()[extracted['C14'].value_counts()>100000].index)"
   ]
  },
  {
   "cell_type": "code",
   "execution_count": null,
   "metadata": {
    "collapsed": false
   },
   "outputs": [],
   "source": [
    "print(extracted['banner_pos'].value_counts())\n",
    "g = sns.factorplot(\"click\", col=\"banner_pos\", col_wrap=4,\n",
    "                    data=extracted,\n",
    "                    kind=\"count\", size=2.5, aspect=.8)"
   ]
  },
  {
   "cell_type": "code",
   "execution_count": null,
   "metadata": {
    "collapsed": true
   },
   "outputs": [],
   "source": [
    "sns.swarmplot(x=\"banner_pos\", y=\"C1\", hue=\"click\", data=extracted)"
   ]
  },
  {
   "cell_type": "code",
   "execution_count": null,
   "metadata": {
    "collapsed": false
   },
   "outputs": [],
   "source": [
    "corr = extracted.select_dtypes(include = ['float64', 'int64']).iloc[:, 1:].corr()\n",
    "plt.figure(figsize=(12, 12))\n",
    "sns.heatmap(corr, vmax=1, square=True)"
   ]
  },
  {
   "cell_type": "code",
   "execution_count": null,
   "metadata": {
    "collapsed": false
   },
   "outputs": [],
   "source": [
    "categories = ['C1', 'C14', 'C15', 'C16', 'C17', 'C18', 'C19', 'C20', 'C21']"
   ]
  },
  {
   "cell_type": "code",
   "execution_count": null,
   "metadata": {
    "collapsed": true
   },
   "outputs": [],
   "source": [
    "filtered = extracted.groupby(['C1', 'C14', 'C15', 'C16', 'C17', 'C18', 'C19', 'C20', 'C21'])"
   ]
  }
 ],
 "metadata": {
  "kernelspec": {
   "display_name": "Python 3",
   "language": "python",
   "name": "python3"
  },
  "language_info": {
   "codemirror_mode": {
    "name": "ipython",
    "version": 3
   },
   "file_extension": ".py",
   "mimetype": "text/x-python",
   "name": "python",
   "nbconvert_exporter": "python",
   "pygments_lexer": "ipython3",
   "version": "3.5.1"
  }
 },
 "nbformat": 4,
 "nbformat_minor": 1
}
