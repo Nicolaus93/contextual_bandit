{
 "cells": [
  {
   "cell_type": "code",
   "execution_count": 1,
   "metadata": {
    "collapsed": true
   },
   "outputs": [],
   "source": [
    "import pandas as pd"
   ]
  },
  {
   "cell_type": "code",
   "execution_count": 2,
   "metadata": {},
   "outputs": [
    {
     "data": {
      "text/plain": [
       "(40428967, 18)"
      ]
     },
     "execution_count": 2,
     "metadata": {},
     "output_type": "execute_result"
    }
   ],
   "source": [
    "df = pd.read_csv('train_data.csv')\n",
    "df.shape"
   ]
  },
  {
   "cell_type": "code",
   "execution_count": 3,
   "metadata": {},
   "outputs": [
    {
     "data": {
      "text/html": [
       "<div>\n",
       "<style>\n",
       "    .dataframe thead tr:only-child th {\n",
       "        text-align: right;\n",
       "    }\n",
       "\n",
       "    .dataframe thead th {\n",
       "        text-align: left;\n",
       "    }\n",
       "\n",
       "    .dataframe tbody tr th {\n",
       "        vertical-align: top;\n",
       "    }\n",
       "</style>\n",
       "<table border=\"1\" class=\"dataframe\">\n",
       "  <thead>\n",
       "    <tr style=\"text-align: right;\">\n",
       "      <th></th>\n",
       "      <th>click</th>\n",
       "      <th>hour</th>\n",
       "      <th>C1</th>\n",
       "      <th>banner_pos</th>\n",
       "      <th>device_model</th>\n",
       "      <th>device_conn_type</th>\n",
       "      <th>C14</th>\n",
       "      <th>C15</th>\n",
       "      <th>C16</th>\n",
       "      <th>C17</th>\n",
       "      <th>C18</th>\n",
       "      <th>C19</th>\n",
       "      <th>C20</th>\n",
       "      <th>C21</th>\n",
       "      <th>user_id</th>\n",
       "      <th>pub_id</th>\n",
       "      <th>pub_domain</th>\n",
       "      <th>pub_category</th>\n",
       "    </tr>\n",
       "  </thead>\n",
       "  <tbody>\n",
       "    <tr>\n",
       "      <th>0</th>\n",
       "      <td>0</td>\n",
       "      <td>14102100</td>\n",
       "      <td>1005</td>\n",
       "      <td>0</td>\n",
       "      <td>44956a24</td>\n",
       "      <td>2</td>\n",
       "      <td>15706</td>\n",
       "      <td>320</td>\n",
       "      <td>50</td>\n",
       "      <td>1722</td>\n",
       "      <td>0</td>\n",
       "      <td>35</td>\n",
       "      <td>-1</td>\n",
       "      <td>79</td>\n",
       "      <td>ip-ddd2926e-44956a24</td>\n",
       "      <td>1fbe01fe</td>\n",
       "      <td>f3845767</td>\n",
       "      <td>28905ebd</td>\n",
       "    </tr>\n",
       "    <tr>\n",
       "      <th>1</th>\n",
       "      <td>0</td>\n",
       "      <td>14102100</td>\n",
       "      <td>1005</td>\n",
       "      <td>0</td>\n",
       "      <td>711ee120</td>\n",
       "      <td>0</td>\n",
       "      <td>15704</td>\n",
       "      <td>320</td>\n",
       "      <td>50</td>\n",
       "      <td>1722</td>\n",
       "      <td>0</td>\n",
       "      <td>35</td>\n",
       "      <td>100084</td>\n",
       "      <td>79</td>\n",
       "      <td>ip-96809ac8-711ee120</td>\n",
       "      <td>1fbe01fe</td>\n",
       "      <td>f3845767</td>\n",
       "      <td>28905ebd</td>\n",
       "    </tr>\n",
       "    <tr>\n",
       "      <th>2</th>\n",
       "      <td>0</td>\n",
       "      <td>14102100</td>\n",
       "      <td>1005</td>\n",
       "      <td>0</td>\n",
       "      <td>8a4875bd</td>\n",
       "      <td>0</td>\n",
       "      <td>15704</td>\n",
       "      <td>320</td>\n",
       "      <td>50</td>\n",
       "      <td>1722</td>\n",
       "      <td>0</td>\n",
       "      <td>35</td>\n",
       "      <td>100084</td>\n",
       "      <td>79</td>\n",
       "      <td>ip-b3cf8def-8a4875bd</td>\n",
       "      <td>1fbe01fe</td>\n",
       "      <td>f3845767</td>\n",
       "      <td>28905ebd</td>\n",
       "    </tr>\n",
       "    <tr>\n",
       "      <th>3</th>\n",
       "      <td>0</td>\n",
       "      <td>14102100</td>\n",
       "      <td>1005</td>\n",
       "      <td>0</td>\n",
       "      <td>6332421a</td>\n",
       "      <td>0</td>\n",
       "      <td>15706</td>\n",
       "      <td>320</td>\n",
       "      <td>50</td>\n",
       "      <td>1722</td>\n",
       "      <td>0</td>\n",
       "      <td>35</td>\n",
       "      <td>100084</td>\n",
       "      <td>79</td>\n",
       "      <td>ip-e8275b8f-6332421a</td>\n",
       "      <td>1fbe01fe</td>\n",
       "      <td>f3845767</td>\n",
       "      <td>28905ebd</td>\n",
       "    </tr>\n",
       "    <tr>\n",
       "      <th>4</th>\n",
       "      <td>0</td>\n",
       "      <td>14102100</td>\n",
       "      <td>1005</td>\n",
       "      <td>1</td>\n",
       "      <td>779d90c2</td>\n",
       "      <td>0</td>\n",
       "      <td>18993</td>\n",
       "      <td>320</td>\n",
       "      <td>50</td>\n",
       "      <td>2161</td>\n",
       "      <td>0</td>\n",
       "      <td>35</td>\n",
       "      <td>-1</td>\n",
       "      <td>157</td>\n",
       "      <td>ip-9644d0bf-779d90c2</td>\n",
       "      <td>fe8cc448</td>\n",
       "      <td>9166c161</td>\n",
       "      <td>0569f928</td>\n",
       "    </tr>\n",
       "  </tbody>\n",
       "</table>\n",
       "</div>"
      ],
      "text/plain": [
       "   click      hour    C1  banner_pos device_model  device_conn_type    C14  \\\n",
       "0      0  14102100  1005           0     44956a24                 2  15706   \n",
       "1      0  14102100  1005           0     711ee120                 0  15704   \n",
       "2      0  14102100  1005           0     8a4875bd                 0  15704   \n",
       "3      0  14102100  1005           0     6332421a                 0  15706   \n",
       "4      0  14102100  1005           1     779d90c2                 0  18993   \n",
       "\n",
       "   C15  C16   C17  C18  C19     C20  C21               user_id    pub_id  \\\n",
       "0  320   50  1722    0   35      -1   79  ip-ddd2926e-44956a24  1fbe01fe   \n",
       "1  320   50  1722    0   35  100084   79  ip-96809ac8-711ee120  1fbe01fe   \n",
       "2  320   50  1722    0   35  100084   79  ip-b3cf8def-8a4875bd  1fbe01fe   \n",
       "3  320   50  1722    0   35  100084   79  ip-e8275b8f-6332421a  1fbe01fe   \n",
       "4  320   50  2161    0   35      -1  157  ip-9644d0bf-779d90c2  fe8cc448   \n",
       "\n",
       "  pub_domain pub_category  \n",
       "0   f3845767     28905ebd  \n",
       "1   f3845767     28905ebd  \n",
       "2   f3845767     28905ebd  \n",
       "3   f3845767     28905ebd  \n",
       "4   9166c161     0569f928  "
      ]
     },
     "execution_count": 3,
     "metadata": {},
     "output_type": "execute_result"
    }
   ],
   "source": [
    "df.head()"
   ]
  },
  {
   "cell_type": "code",
   "execution_count": 4,
   "metadata": {},
   "outputs": [
    {
     "data": {
      "text/html": [
       "<div>\n",
       "<style>\n",
       "    .dataframe thead tr:only-child th {\n",
       "        text-align: right;\n",
       "    }\n",
       "\n",
       "    .dataframe thead th {\n",
       "        text-align: left;\n",
       "    }\n",
       "\n",
       "    .dataframe tbody tr th {\n",
       "        vertical-align: top;\n",
       "    }\n",
       "</style>\n",
       "<table border=\"1\" class=\"dataframe\">\n",
       "  <thead>\n",
       "    <tr style=\"text-align: right;\">\n",
       "      <th></th>\n",
       "      <th>click</th>\n",
       "      <th>hour</th>\n",
       "      <th>C1</th>\n",
       "      <th>banner_pos</th>\n",
       "      <th>device_model</th>\n",
       "      <th>device_conn_type</th>\n",
       "      <th>C14</th>\n",
       "      <th>C15</th>\n",
       "      <th>C16</th>\n",
       "      <th>C17</th>\n",
       "      <th>C18</th>\n",
       "      <th>C19</th>\n",
       "      <th>C20</th>\n",
       "      <th>C21</th>\n",
       "      <th>user_id</th>\n",
       "      <th>pub_id</th>\n",
       "      <th>pub_domain</th>\n",
       "      <th>pub_category</th>\n",
       "    </tr>\n",
       "  </thead>\n",
       "  <tbody>\n",
       "    <tr>\n",
       "      <th>0</th>\n",
       "      <td>0</td>\n",
       "      <td>14102709</td>\n",
       "      <td>1005</td>\n",
       "      <td>1</td>\n",
       "      <td>8a4875bd</td>\n",
       "      <td>0</td>\n",
       "      <td>20007</td>\n",
       "      <td>320</td>\n",
       "      <td>50</td>\n",
       "      <td>2283</td>\n",
       "      <td>0</td>\n",
       "      <td>163</td>\n",
       "      <td>100076</td>\n",
       "      <td>95</td>\n",
       "      <td>ip-4334c76d-8a4875bd</td>\n",
       "      <td>5b4d2eda</td>\n",
       "      <td>16a36ef3</td>\n",
       "      <td>f028772b</td>\n",
       "    </tr>\n",
       "    <tr>\n",
       "      <th>1</th>\n",
       "      <td>0</td>\n",
       "      <td>14103023</td>\n",
       "      <td>1005</td>\n",
       "      <td>0</td>\n",
       "      <td>c64f1736</td>\n",
       "      <td>0</td>\n",
       "      <td>16859</td>\n",
       "      <td>320</td>\n",
       "      <td>50</td>\n",
       "      <td>1887</td>\n",
       "      <td>3</td>\n",
       "      <td>39</td>\n",
       "      <td>-1</td>\n",
       "      <td>23</td>\n",
       "      <td>ip-1780e267-c64f1736</td>\n",
       "      <td>4bf5bbe2</td>\n",
       "      <td>6b560cc1</td>\n",
       "      <td>28905ebd</td>\n",
       "    </tr>\n",
       "    <tr>\n",
       "      <th>2</th>\n",
       "      <td>1</td>\n",
       "      <td>14102807</td>\n",
       "      <td>1005</td>\n",
       "      <td>1</td>\n",
       "      <td>cdf6ea96</td>\n",
       "      <td>0</td>\n",
       "      <td>22811</td>\n",
       "      <td>320</td>\n",
       "      <td>50</td>\n",
       "      <td>2647</td>\n",
       "      <td>2</td>\n",
       "      <td>35</td>\n",
       "      <td>100148</td>\n",
       "      <td>23</td>\n",
       "      <td>ip-90b17173-cdf6ea96</td>\n",
       "      <td>e151e245</td>\n",
       "      <td>7e091613</td>\n",
       "      <td>f028772b</td>\n",
       "    </tr>\n",
       "    <tr>\n",
       "      <th>3</th>\n",
       "      <td>0</td>\n",
       "      <td>14102116</td>\n",
       "      <td>1005</td>\n",
       "      <td>0</td>\n",
       "      <td>c730b3c6</td>\n",
       "      <td>0</td>\n",
       "      <td>16688</td>\n",
       "      <td>320</td>\n",
       "      <td>50</td>\n",
       "      <td>1873</td>\n",
       "      <td>3</td>\n",
       "      <td>39</td>\n",
       "      <td>-1</td>\n",
       "      <td>23</td>\n",
       "      <td>id-5ebb0ca9</td>\n",
       "      <td>54c5d545</td>\n",
       "      <td>2347f47a</td>\n",
       "      <td>0f2161f8</td>\n",
       "    </tr>\n",
       "    <tr>\n",
       "      <th>4</th>\n",
       "      <td>0</td>\n",
       "      <td>14103006</td>\n",
       "      <td>1005</td>\n",
       "      <td>0</td>\n",
       "      <td>744ae245</td>\n",
       "      <td>0</td>\n",
       "      <td>23804</td>\n",
       "      <td>320</td>\n",
       "      <td>50</td>\n",
       "      <td>2726</td>\n",
       "      <td>3</td>\n",
       "      <td>803</td>\n",
       "      <td>-1</td>\n",
       "      <td>229</td>\n",
       "      <td>ip-160f55d9-744ae245</td>\n",
       "      <td>c105f675</td>\n",
       "      <td>2347f47a</td>\n",
       "      <td>0f2161f8</td>\n",
       "    </tr>\n",
       "  </tbody>\n",
       "</table>\n",
       "</div>"
      ],
      "text/plain": [
       "   click      hour    C1  banner_pos device_model  device_conn_type    C14  \\\n",
       "0      0  14102709  1005           1     8a4875bd                 0  20007   \n",
       "1      0  14103023  1005           0     c64f1736                 0  16859   \n",
       "2      1  14102807  1005           1     cdf6ea96                 0  22811   \n",
       "3      0  14102116  1005           0     c730b3c6                 0  16688   \n",
       "4      0  14103006  1005           0     744ae245                 0  23804   \n",
       "\n",
       "   C15  C16   C17  C18  C19     C20  C21               user_id    pub_id  \\\n",
       "0  320   50  2283    0  163  100076   95  ip-4334c76d-8a4875bd  5b4d2eda   \n",
       "1  320   50  1887    3   39      -1   23  ip-1780e267-c64f1736  4bf5bbe2   \n",
       "2  320   50  2647    2   35  100148   23  ip-90b17173-cdf6ea96  e151e245   \n",
       "3  320   50  1873    3   39      -1   23           id-5ebb0ca9  54c5d545   \n",
       "4  320   50  2726    3  803      -1  229  ip-160f55d9-744ae245  c105f675   \n",
       "\n",
       "  pub_domain pub_category  \n",
       "0   16a36ef3     f028772b  \n",
       "1   6b560cc1     28905ebd  \n",
       "2   7e091613     f028772b  \n",
       "3   2347f47a     0f2161f8  \n",
       "4   2347f47a     0f2161f8  "
      ]
     },
     "execution_count": 4,
     "metadata": {},
     "output_type": "execute_result"
    }
   ],
   "source": [
    "# shuffle data\n",
    "df = df.sample(frac=1).reset_index(drop=True)\n",
    "df.head()"
   ]
  },
  {
   "cell_type": "code",
   "execution_count": 5,
   "metadata": {},
   "outputs": [
    {
     "data": {
      "text/plain": [
       "(28820693, 18)"
      ]
     },
     "execution_count": 5,
     "metadata": {},
     "output_type": "execute_result"
    }
   ],
   "source": [
    "df = df[~df.duplicated(keep='first')]\n",
    "df.shape"
   ]
  },
  {
   "cell_type": "markdown",
   "metadata": {},
   "source": [
    "# remove users with no zeros and no ones"
   ]
  },
  {
   "cell_type": "code",
   "execution_count": 6,
   "metadata": {},
   "outputs": [
    {
     "data": {
      "text/plain": [
       "(12788763, 18)"
      ]
     },
     "execution_count": 6,
     "metadata": {},
     "output_type": "execute_result"
    }
   ],
   "source": [
    "# select only yes clicks\n",
    "yes = df[df['click'] == 1]\n",
    "# select user whose number of yes clicks is > 0\n",
    "n = yes['user_id'].value_counts()[yes['user_id'].value_counts() > 0].index\n",
    "df = df.loc[df['user_id'].isin(n)]\n",
    "\n",
    "# select user whose number of no clicks is > 0\n",
    "no = df[df['click'] == 0]\n",
    "n = no['user_id'].value_counts()[no['user_id'].value_counts() > 0].index\n",
    "df = df.loc[df['user_id'].isin(n)]\n",
    "df.shape"
   ]
  },
  {
   "cell_type": "code",
   "execution_count": 7,
   "metadata": {
    "collapsed": true
   },
   "outputs": [],
   "source": [
    "del yes\n",
    "del no"
   ]
  },
  {
   "cell_type": "code",
   "execution_count": 8,
   "metadata": {},
   "outputs": [
    {
     "data": {
      "text/plain": [
       "1801359"
      ]
     },
     "execution_count": 8,
     "metadata": {},
     "output_type": "execute_result"
    }
   ],
   "source": [
    "len(df.user_id.unique())"
   ]
  },
  {
   "cell_type": "markdown",
   "metadata": {},
   "source": [
    "# remove identical values at the same hour"
   ]
  },
  {
   "cell_type": "code",
   "execution_count": 9,
   "metadata": {},
   "outputs": [
    {
     "data": {
      "text/plain": [
       "['hour',\n",
       " 'C1',\n",
       " 'banner_pos',\n",
       " 'device_model',\n",
       " 'device_conn_type',\n",
       " 'C14',\n",
       " 'C15',\n",
       " 'C16',\n",
       " 'C17',\n",
       " 'C18',\n",
       " 'C19',\n",
       " 'C20',\n",
       " 'C21',\n",
       " 'user_id',\n",
       " 'pub_id',\n",
       " 'pub_domain',\n",
       " 'pub_category']"
      ]
     },
     "execution_count": 9,
     "metadata": {},
     "output_type": "execute_result"
    }
   ],
   "source": [
    "cols = [i for i in df.columns if i not in ['click']]\n",
    "cols"
   ]
  },
  {
   "cell_type": "code",
   "execution_count": 10,
   "metadata": {},
   "outputs": [
    {
     "data": {
      "text/plain": [
       "(11534928, 18)"
      ]
     },
     "execution_count": 10,
     "metadata": {},
     "output_type": "execute_result"
    }
   ],
   "source": [
    "df = df[~df[cols].duplicated(keep='first')]\n",
    "df.shape"
   ]
  },
  {
   "cell_type": "markdown",
   "metadata": {},
   "source": [
    "# remove unknown features and check again for duplicates"
   ]
  },
  {
   "cell_type": "code",
   "execution_count": 11,
   "metadata": {},
   "outputs": [
    {
     "data": {
      "text/plain": [
       "(11527875, 13)"
      ]
     },
     "execution_count": 11,
     "metadata": {},
     "output_type": "execute_result"
    }
   ],
   "source": [
    "cols = ['C1', 'C15', 'C16', 'C18', 'C19']\n",
    "df.drop(cols, axis=1, inplace=True)\n",
    "cols = [i for i in df.columns if i not in ['click']]\n",
    "df = df[~df[cols].duplicated(keep='first')]\n",
    "df.shape"
   ]
  },
  {
   "cell_type": "code",
   "execution_count": 12,
   "metadata": {},
   "outputs": [
    {
     "data": {
      "text/plain": [
       "1801359"
      ]
     },
     "execution_count": 12,
     "metadata": {},
     "output_type": "execute_result"
    }
   ],
   "source": [
    "len(df.user_id.unique())"
   ]
  },
  {
   "cell_type": "markdown",
   "metadata": {},
   "source": [
    "# remove users with no zeros and no ones again"
   ]
  },
  {
   "cell_type": "code",
   "execution_count": 13,
   "metadata": {},
   "outputs": [
    {
     "data": {
      "text/plain": [
       "(10544382, 13)"
      ]
     },
     "execution_count": 13,
     "metadata": {},
     "output_type": "execute_result"
    }
   ],
   "source": [
    "# select only yes clicks\n",
    "yes = df[df['click'] == 1]\n",
    "# select user whose number of yes clicks is > 0\n",
    "n = yes['user_id'].value_counts()[yes['user_id'].value_counts() > 0].index\n",
    "df = df.loc[df['user_id'].isin(n)]\n",
    "\n",
    "# select user whose number of no clicks is > 0\n",
    "no = df[df['click'] == 0]\n",
    "n = no['user_id'].value_counts()[no['user_id'].value_counts() > 0].index\n",
    "df = df.loc[df['user_id'].isin(n)]\n",
    "df.shape"
   ]
  },
  {
   "cell_type": "code",
   "execution_count": 14,
   "metadata": {},
   "outputs": [
    {
     "data": {
      "text/plain": [
       "1392150"
      ]
     },
     "execution_count": 14,
     "metadata": {},
     "output_type": "execute_result"
    }
   ],
   "source": [
    "len(df.user_id.unique())"
   ]
  },
  {
   "cell_type": "markdown",
   "metadata": {},
   "source": [
    "# select min number of interactions"
   ]
  },
  {
   "cell_type": "code",
   "execution_count": 15,
   "metadata": {
    "collapsed": true
   },
   "outputs": [],
   "source": [
    "# select user whose number of interactions clicks is >= 20\n",
    "no = df[df['click'] == 0]\n",
    "n = no['user_id'].value_counts()[no['user_id'].value_counts() > 19].index\n",
    "df = df.loc[df['user_id'].isin(n)]"
   ]
  },
  {
   "cell_type": "code",
   "execution_count": 16,
   "metadata": {},
   "outputs": [
    {
     "data": {
      "text/plain": [
       "(4120562, 13)"
      ]
     },
     "execution_count": 16,
     "metadata": {},
     "output_type": "execute_result"
    }
   ],
   "source": [
    "df.shape"
   ]
  },
  {
   "cell_type": "code",
   "execution_count": 17,
   "metadata": {},
   "outputs": [
    {
     "name": "stdout",
     "output_type": "stream",
     "text": [
      "click: 2\n",
      "hour: 240\n",
      "banner_pos: 7\n",
      "device_model: 1933\n",
      "device_conn_type: 4\n",
      "C14: 2066\n",
      "C17: 382\n",
      "C20: 143\n",
      "C21: 55\n",
      "user_id: 62693\n",
      "pub_id: 3117\n",
      "pub_domain: 1459\n",
      "pub_category: 39\n"
     ]
    }
   ],
   "source": [
    "for c in df.columns:\n",
    "    print('{}: {}'.format(c, len(df[c].unique())))"
   ]
  },
  {
   "cell_type": "code",
   "execution_count": 18,
   "metadata": {},
   "outputs": [
    {
     "name": "stdout",
     "output_type": "stream",
     "text": [
      "Users that appear less than 30 times: 24.66%\n",
      "Users that appear less than 50 times: 66.3%\n",
      "Users that appear less than 100 times: 90.28%\n",
      "Users that appear less than 1000 times: 99.6%\n"
     ]
    },
    {
     "name": "stderr",
     "output_type": "stream",
     "text": [
      "/home/nicolo.campolongo/anaconda3/lib/python3.6/site-packages/matplotlib/font_manager.py:1297: UserWarning: findfont: Font family ['sans-serif'] not found. Falling back to DejaVu Sans\n",
      "  (prop.get_family(), self.defaultFamily[fontext]))\n"
     ]
    },
    {
     "data": {
      "image/png": "[encoded data removed]",
      "text/plain": [
       "<matplotlib.figure.Figure at 0x7f55892e2be0>"
      ]
     },
     "metadata": {},
     "output_type": "display_data"
    }
   ],
   "source": [
    "import matplotlib.pyplot as plt\n",
    "import seaborn as sns\n",
    "%matplotlib inline\n",
    "\n",
    "uuid_counts = df.groupby('user_id')['user_id'].count().sort_values()\n",
    "\n",
    "for i in [30, 50, 100, 1000]:\n",
    "    print('Users that appear less than {} times: {}%'.format(i, round((uuid_counts < i).mean() * 100, 2)))\n",
    "    \n",
    "plt.figure(figsize=(12, 4))\n",
    "plt.hist(uuid_counts.values, bins=50, log=True)\n",
    "plt.xlabel('Number of times user appeared in set', fontsize=12)\n",
    "plt.ylabel('log(Count of users)', fontsize=12)\n",
    "plt.show()"
   ]
  },
  {
   "cell_type": "code",
   "execution_count": 19,
   "metadata": {},
   "outputs": [
    {
     "name": "stdout",
     "output_type": "stream",
     "text": [
      "0.175\n",
      "0.171\n",
      "Users with yes click percentage less than 0.1: 29.39%\n",
      "Users with yes click percentage less than 0.2: 57.95%\n",
      "Users with yes click percentage less than 0.3: 86.82%\n",
      "Users with yes click percentage less than 0.4: 98.11%\n",
      "Users with yes click percentage less than 0.5: 99.81%\n",
      "Users with yes click percentage less than 0.6: 99.98%\n",
      "Users with yes click percentage less than 0.7: 100.0%\n",
      "Users with yes click percentage less than 0.8: 100.0%\n",
      "Users with yes click percentage less than 0.9: 100.0%\n"
     ]
    },
    {
     "name": "stderr",
     "output_type": "stream",
     "text": [
      "/home/nicolo.campolongo/anaconda3/lib/python3.6/site-packages/matplotlib/font_manager.py:1297: UserWarning: findfont: Font family ['sans-serif'] not found. Falling back to DejaVu Sans\n",
      "  (prop.get_family(), self.defaultFamily[fontext]))\n"
     ]
    },
    {
     "data": {
      "image/png": "[encoded data removed]",
      "text/plain": [
       "<matplotlib.figure.Figure at 0x7f55b52e74a8>"
      ]
     },
     "metadata": {},
     "output_type": "display_data"
    }
   ],
   "source": [
    "\n",
    "click_count = df[df['click']==1].groupby(['user_id', 'click'])['click'].size()\n",
    "click_count = click_count / df.groupby(['user_id']).size()\n",
    "print(round(click_count.mean(),3))\n",
    "print(round(click_count.median(),3))\n",
    "\n",
    "for i in [0.1, 0.2, 0.3, 0.4, 0.5, 0.6, 0.7, 0.8, 0.9]:\n",
    "    print('Users with yes click percentage less than {}: {}%'.format(i, round((click_count < i).mean() * 100, 2)))\n",
    "    \n",
    "plt.figure(figsize=(12, 4))\n",
    "plt.hist(click_count.values, bins=100, log=False)\n",
    "plt.xlabel('Percentage of yes clicks on total', fontsize=12)\n",
    "plt.ylabel('Count of users', fontsize=12)\n",
    "plt.show()"
   ]
  },
  {
   "cell_type": "code",
   "execution_count": 20,
   "metadata": {},
   "outputs": [
    {
     "data": {
      "text/plain": [
       "user_id      click\n",
       "id-000b6e10  1        0.142857\n",
       "id-000f48ef  1        0.045455\n",
       "id-0011e621  1        0.062500\n",
       "id-00146063  1        0.314286\n",
       "id-00171260  1        0.036145\n",
       "dtype: float64"
      ]
     },
     "execution_count": 20,
     "metadata": {},
     "output_type": "execute_result"
    }
   ],
   "source": [
    "click_count.head()"
   ]
  },
  {
   "cell_type": "code",
   "execution_count": 21,
   "metadata": {
    "collapsed": true
   },
   "outputs": [],
   "source": [
    "df.to_csv('preprocessed_k20.csv', index=False)"
   ]
  },
  {
   "cell_type": "markdown",
   "metadata": {},
   "source": [
    "# most frequent 100"
   ]
  },
  {
   "cell_type": "code",
   "execution_count": 22,
   "metadata": {
    "collapsed": true
   },
   "outputs": [],
   "source": [
    "n = df['user_id'].value_counts()[:100].index"
   ]
  },
  {
   "cell_type": "code",
   "execution_count": 23,
   "metadata": {
    "collapsed": true
   },
   "outputs": [],
   "source": [
    "df1 = df.loc[df['user_id'].isin(n)]"
   ]
  },
  {
   "cell_type": "code",
   "execution_count": 24,
   "metadata": {
    "collapsed": true
   },
   "outputs": [],
   "source": [
    "#df1.to_csv('preprocessed_100.csv', index=False)"
   ]
  },
  {
   "cell_type": "markdown",
   "metadata": {},
   "source": [
    "# most frequent 1000"
   ]
  },
  {
   "cell_type": "code",
   "execution_count": 25,
   "metadata": {
    "collapsed": true
   },
   "outputs": [],
   "source": [
    "n = df['user_id'].value_counts()[:1000].index\n",
    "df1 = df.loc[df['user_id'].isin(n)]\n",
    "#df1.to_csv('preprocessed_1000.csv', index=False)"
   ]
  },
  {
   "cell_type": "code",
   "execution_count": 26,
   "metadata": {},
   "outputs": [
    {
     "data": {
      "text/plain": [
       "(871303, 13)"
      ]
     },
     "execution_count": 26,
     "metadata": {},
     "output_type": "execute_result"
    }
   ],
   "source": [
    "df1.shape"
   ]
  }
 ],
 "metadata": {
  "kernelspec": {
   "display_name": "Python 3",
   "language": "python",
   "name": "python3"
  },
  "language_info": {
   "codemirror_mode": {
    "name": "ipython",
    "version": 3
   },
   "file_extension": ".py",
   "mimetype": "text/x-python",
   "name": "python",
   "nbconvert_exporter": "python",
   "pygments_lexer": "ipython3",
   "version": "3.6.1"
  }
 },
 "nbformat": 4,
 "nbformat_minor": 2
}
